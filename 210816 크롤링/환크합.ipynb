{
 "cells": [
  {
   "cell_type": "code",
   "execution_count": 1,
   "id": "f560988a",
   "metadata": {},
   "outputs": [],
   "source": [
    "import pandas as pd\n",
    "a= pd.read_csv('환경부 크롤링1629083134')\n",
    "b= pd.read_csv('환경부 크롤링1629086662')\n",
    "c= pd.read_csv('환경부 크롤링1629091405')\n",
    "d= pd.read_csv('환경부 크롤링1629097459')\n",
    "e= pd.read_csv('환경부 크롤링1629104507')\n",
    "f= pd.read_csv('환경부 크롤링1629108258')\n",
    "g= pd.read_csv('환경부 크롤링1629111857')\n",
    "h= pd.read_csv('환경부 크롤링1629115457')\n",
    "i= pd.read_csv('환경부 크롤링1629119060')\n",
    "j= pd.read_csv('환경부 크롤링1629122665')\n"
   ]
  },
  {
   "cell_type": "code",
   "execution_count": 2,
   "id": "1de065ef",
   "metadata": {},
   "outputs": [
    {
     "data": {
      "text/html": [
       "<div>\n",
       "<style scoped>\n",
       "    .dataframe tbody tr th:only-of-type {\n",
       "        vertical-align: middle;\n",
       "    }\n",
       "\n",
       "    .dataframe tbody tr th {\n",
       "        vertical-align: top;\n",
       "    }\n",
       "\n",
       "    .dataframe thead th {\n",
       "        text-align: right;\n",
       "    }\n",
       "</style>\n",
       "<table border=\"1\" class=\"dataframe\">\n",
       "  <thead>\n",
       "    <tr style=\"text-align: right;\">\n",
       "      <th></th>\n",
       "      <th>구명</th>\n",
       "      <th>시설분류</th>\n",
       "      <th>주차장명</th>\n",
       "      <th>사용상태</th>\n",
       "      <th>충전기타입</th>\n",
       "      <th>수집시간</th>\n",
       "    </tr>\n",
       "  </thead>\n",
       "  <tbody>\n",
       "    <tr>\n",
       "      <th>0</th>\n",
       "      <td>강남구</td>\n",
       "      <td>관광시설</td>\n",
       "      <td>SETEC</td>\n",
       "      <td>사용가능</td>\n",
       "      <td>급속</td>\n",
       "      <td>2021-08-16 11:55:18.350448</td>\n",
       "    </tr>\n",
       "    <tr>\n",
       "      <th>1</th>\n",
       "      <td>강남구</td>\n",
       "      <td>관광시설</td>\n",
       "      <td>SETEC</td>\n",
       "      <td>사용중</td>\n",
       "      <td>급속</td>\n",
       "      <td>2021-08-16 12:54:47.201700</td>\n",
       "    </tr>\n",
       "    <tr>\n",
       "      <th>2</th>\n",
       "      <td>강남구</td>\n",
       "      <td>관광시설</td>\n",
       "      <td>SETEC</td>\n",
       "      <td>사용가능</td>\n",
       "      <td>급속</td>\n",
       "      <td>2021-08-16 13:54:44.860567</td>\n",
       "    </tr>\n",
       "    <tr>\n",
       "      <th>3</th>\n",
       "      <td>강남구</td>\n",
       "      <td>관광시설</td>\n",
       "      <td>SETEC</td>\n",
       "      <td>사용가능</td>\n",
       "      <td>급속</td>\n",
       "      <td>2021-08-16 15:54:46.045795</td>\n",
       "    </tr>\n",
       "    <tr>\n",
       "      <th>4</th>\n",
       "      <td>강남구</td>\n",
       "      <td>관광시설</td>\n",
       "      <td>SETEC</td>\n",
       "      <td>사용중</td>\n",
       "      <td>급속</td>\n",
       "      <td>2021-08-16 17:52:28.032247</td>\n",
       "    </tr>\n",
       "  </tbody>\n",
       "</table>\n",
       "</div>"
      ],
      "text/plain": [
       "    구명  시설분류   주차장명  사용상태 충전기타입                        수집시간\n",
       "0  강남구  관광시설  SETEC  사용가능    급속  2021-08-16 11:55:18.350448\n",
       "1  강남구  관광시설  SETEC   사용중    급속  2021-08-16 12:54:47.201700\n",
       "2  강남구  관광시설  SETEC  사용가능    급속  2021-08-16 13:54:44.860567\n",
       "3  강남구  관광시설  SETEC  사용가능    급속  2021-08-16 15:54:46.045795\n",
       "4  강남구  관광시설  SETEC   사용중    급속  2021-08-16 17:52:28.032247"
      ]
     },
     "execution_count": 2,
     "metadata": {},
     "output_type": "execute_result"
    }
   ],
   "source": [
    "result=pd.concat([a,b,c,d,e,f,g,h,i,j])\n",
    "result=result[['구명','시설분류','주차장명','사용상태','충전기타입','수집시간']]\n",
    "result=result.sort_values(by=['구명','주차장명','수집시간'],ascending=[True,True,True])\n",
    "result=result.reset_index(drop=True)\n",
    "result.head()"
   ]
  },
  {
   "cell_type": "code",
   "execution_count": 3,
   "id": "716ec785",
   "metadata": {},
   "outputs": [],
   "source": [
    "result.to_csv('210816 환경부 크롤링.csv',index=False)"
   ]
  },
  {
   "cell_type": "code",
   "execution_count": null,
   "id": "c519eb27",
   "metadata": {},
   "outputs": [],
   "source": []
  }
 ],
 "metadata": {
  "kernelspec": {
   "display_name": "Python 3",
   "language": "python",
   "name": "python3"
  },
  "language_info": {
   "codemirror_mode": {
    "name": "ipython",
    "version": 3
   },
   "file_extension": ".py",
   "mimetype": "text/x-python",
   "name": "python",
   "nbconvert_exporter": "python",
   "pygments_lexer": "ipython3",
   "version": "3.7.7"
  }
 },
 "nbformat": 4,
 "nbformat_minor": 5
}
