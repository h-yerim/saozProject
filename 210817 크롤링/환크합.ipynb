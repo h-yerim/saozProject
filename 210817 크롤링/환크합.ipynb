{
 "cells": [
  {
   "cell_type": "code",
   "execution_count": 13,
   "id": "6d2a492f",
   "metadata": {},
   "outputs": [],
   "source": [
    "import pandas as pd\n",
    "a= pd.read_csv('환경부 크롤링1629161271')\n",
    "b= pd.read_csv('환경부 크롤링1629164695')\n",
    "c= pd.read_csv('환경부 크롤링1629168278')\n",
    "d= pd.read_csv('환경부 크롤링1629171878')\n",
    "e= pd.read_csv('환경부 크롤링1629178432')\n",
    "f= pd.read_csv('환경부 크롤링1629182693')\n",
    "g= pd.read_csv('환경부 크롤링1629186280')\n",
    "h= pd.read_csv('환경부 크롤링1629189894')\n",
    "i= pd.read_csv('환경부 크롤링1629196395')\n",
    "j= pd.read_csv('환경부 크롤링1629200687')\n",
    "k= pd.read_csv('환경부 크롤링1629207746')"
   ]
  },
  {
   "cell_type": "code",
   "execution_count": 14,
   "id": "cb2b7e7b",
   "metadata": {},
   "outputs": [
    {
     "data": {
      "text/plain": [
       "67"
      ]
     },
     "execution_count": 14,
     "metadata": {},
     "output_type": "execute_result"
    }
   ],
   "source": [
    "x=pd.read_excel('data/유선부분_동.xlsx')\n",
    "x=x[['동']]\n",
    "x.head()\n",
    "len(x)"
   ]
  },
  {
   "cell_type": "code",
   "execution_count": 15,
   "id": "cc9d7fea",
   "metadata": {},
   "outputs": [
    {
     "data": {
      "text/plain": [
       "138"
      ]
     },
     "execution_count": 15,
     "metadata": {},
     "output_type": "execute_result"
    }
   ],
   "source": [
    "y=pd.read_excel('data/승현.xlsx')\n",
    "y=y[['동']]\n",
    "y.head()\n",
    "len(y)"
   ]
  },
  {
   "cell_type": "code",
   "execution_count": 16,
   "id": "1defde57",
   "metadata": {},
   "outputs": [
    {
     "data": {
      "text/html": [
       "<div>\n",
       "<style scoped>\n",
       "    .dataframe tbody tr th:only-of-type {\n",
       "        vertical-align: middle;\n",
       "    }\n",
       "\n",
       "    .dataframe tbody tr th {\n",
       "        vertical-align: top;\n",
       "    }\n",
       "\n",
       "    .dataframe thead th {\n",
       "        text-align: right;\n",
       "    }\n",
       "</style>\n",
       "<table border=\"1\" class=\"dataframe\">\n",
       "  <thead>\n",
       "    <tr style=\"text-align: right;\">\n",
       "      <th></th>\n",
       "      <th>동</th>\n",
       "    </tr>\n",
       "  </thead>\n",
       "  <tbody>\n",
       "    <tr>\n",
       "      <th>0</th>\n",
       "      <td>개포동</td>\n",
       "    </tr>\n",
       "    <tr>\n",
       "      <th>1</th>\n",
       "      <td>삼성동</td>\n",
       "    </tr>\n",
       "    <tr>\n",
       "      <th>2</th>\n",
       "      <td>개포동</td>\n",
       "    </tr>\n",
       "    <tr>\n",
       "      <th>3</th>\n",
       "      <td>일원동</td>\n",
       "    </tr>\n",
       "    <tr>\n",
       "      <th>4</th>\n",
       "      <td>일원동</td>\n",
       "    </tr>\n",
       "    <tr>\n",
       "      <th>...</th>\n",
       "      <td>...</td>\n",
       "    </tr>\n",
       "    <tr>\n",
       "      <th>200</th>\n",
       "      <td>중화동</td>\n",
       "    </tr>\n",
       "    <tr>\n",
       "      <th>201</th>\n",
       "      <td>면목동</td>\n",
       "    </tr>\n",
       "    <tr>\n",
       "      <th>202</th>\n",
       "      <td>상봉동</td>\n",
       "    </tr>\n",
       "    <tr>\n",
       "      <th>203</th>\n",
       "      <td>신내동</td>\n",
       "    </tr>\n",
       "    <tr>\n",
       "      <th>204</th>\n",
       "      <td>신내동</td>\n",
       "    </tr>\n",
       "  </tbody>\n",
       "</table>\n",
       "<p>205 rows × 1 columns</p>\n",
       "</div>"
      ],
      "text/plain": [
       "       동\n",
       "0    개포동\n",
       "1    삼성동\n",
       "2    개포동\n",
       "3    일원동\n",
       "4    일원동\n",
       "..   ...\n",
       "200  중화동\n",
       "201  면목동\n",
       "202  상봉동\n",
       "203  신내동\n",
       "204  신내동\n",
       "\n",
       "[205 rows x 1 columns]"
      ]
     },
     "execution_count": 16,
     "metadata": {},
     "output_type": "execute_result"
    }
   ],
   "source": [
    "xy=pd.concat([y,x],ignore_index=True)\n",
    "xy"
   ]
  },
  {
   "cell_type": "code",
   "execution_count": 17,
   "id": "5e1fb945",
   "metadata": {},
   "outputs": [],
   "source": [
    "df_list=[a,b,c,d,e,f,g,h,i,j,k]\n",
    "dfs=[]\n",
    "for x in df_list:\n",
    "    x=x[['구명','시설분류','주차장명','사용상태','충전기타입','수집시간']]\n",
    "    x['동']=xy['동']\n",
    "    dfs.append(x)"
   ]
  },
  {
   "cell_type": "code",
   "execution_count": 18,
   "id": "0ca2f099",
   "metadata": {},
   "outputs": [
    {
     "data": {
      "text/html": [
       "<div>\n",
       "<style scoped>\n",
       "    .dataframe tbody tr th:only-of-type {\n",
       "        vertical-align: middle;\n",
       "    }\n",
       "\n",
       "    .dataframe tbody tr th {\n",
       "        vertical-align: top;\n",
       "    }\n",
       "\n",
       "    .dataframe thead th {\n",
       "        text-align: right;\n",
       "    }\n",
       "</style>\n",
       "<table border=\"1\" class=\"dataframe\">\n",
       "  <thead>\n",
       "    <tr style=\"text-align: right;\">\n",
       "      <th></th>\n",
       "      <th>구명</th>\n",
       "      <th>시설분류</th>\n",
       "      <th>주차장명</th>\n",
       "      <th>사용상태</th>\n",
       "      <th>충전기타입</th>\n",
       "      <th>수집시간</th>\n",
       "      <th>동</th>\n",
       "    </tr>\n",
       "  </thead>\n",
       "  <tbody>\n",
       "    <tr>\n",
       "      <th>0</th>\n",
       "      <td>강남구</td>\n",
       "      <td>공공시설</td>\n",
       "      <td>sh서울주택도시공사</td>\n",
       "      <td>사용가능</td>\n",
       "      <td>급속</td>\n",
       "      <td>2021-08-17 09:38:00.689344</td>\n",
       "      <td>개포동</td>\n",
       "    </tr>\n",
       "    <tr>\n",
       "      <th>1</th>\n",
       "      <td>강남구</td>\n",
       "      <td>공공시설</td>\n",
       "      <td>강남구청 삼성로 별관 부설 주차장</td>\n",
       "      <td>사용중</td>\n",
       "      <td>급속</td>\n",
       "      <td>2021-08-17 09:38:00.689344</td>\n",
       "      <td>삼성동</td>\n",
       "    </tr>\n",
       "    <tr>\n",
       "      <th>2</th>\n",
       "      <td>강남구</td>\n",
       "      <td>공공시설</td>\n",
       "      <td>일원2동 주민센터</td>\n",
       "      <td>사용가능</td>\n",
       "      <td>급속</td>\n",
       "      <td>2021-08-17 09:38:00.689344</td>\n",
       "      <td>개포동</td>\n",
       "    </tr>\n",
       "    <tr>\n",
       "      <th>3</th>\n",
       "      <td>강남구</td>\n",
       "      <td>공공시설</td>\n",
       "      <td>일원본동 주민센터</td>\n",
       "      <td>사용가능</td>\n",
       "      <td>급속</td>\n",
       "      <td>2021-08-17 09:38:00.689344</td>\n",
       "      <td>일원동</td>\n",
       "    </tr>\n",
       "    <tr>\n",
       "      <th>4</th>\n",
       "      <td>강남구</td>\n",
       "      <td>공공시설</td>\n",
       "      <td>탄천물재생센터</td>\n",
       "      <td>사용가능</td>\n",
       "      <td>급속</td>\n",
       "      <td>2021-08-17 09:38:00.689344</td>\n",
       "      <td>일원동</td>\n",
       "    </tr>\n",
       "  </tbody>\n",
       "</table>\n",
       "</div>"
      ],
      "text/plain": [
       "    구명  시설분류                주차장명  사용상태 충전기타입                        수집시간    동\n",
       "0  강남구  공공시설          sh서울주택도시공사  사용가능    급속  2021-08-17 09:38:00.689344  개포동\n",
       "1  강남구  공공시설  강남구청 삼성로 별관 부설 주차장   사용중    급속  2021-08-17 09:38:00.689344  삼성동\n",
       "2  강남구  공공시설           일원2동 주민센터  사용가능    급속  2021-08-17 09:38:00.689344  개포동\n",
       "3  강남구  공공시설           일원본동 주민센터  사용가능    급속  2021-08-17 09:38:00.689344  일원동\n",
       "4  강남구  공공시설             탄천물재생센터  사용가능    급속  2021-08-17 09:38:00.689344  일원동"
      ]
     },
     "execution_count": 18,
     "metadata": {},
     "output_type": "execute_result"
    }
   ],
   "source": [
    "result=pd.DataFrame(columns=(['구명','시설분류','주차장명','사용상태','충전기타입','수집시간']))\n",
    "result=pd.concat([dfs[0],dfs[1],dfs[2],dfs[3],dfs[4],dfs[5],dfs[6],dfs[7],dfs[8],dfs[9],dfs[10]],ignore_index=True)\n",
    "result.head()"
   ]
  },
  {
   "cell_type": "code",
   "execution_count": 19,
   "id": "75a854dd",
   "metadata": {},
   "outputs": [
    {
     "data": {
      "text/html": [
       "<div>\n",
       "<style scoped>\n",
       "    .dataframe tbody tr th:only-of-type {\n",
       "        vertical-align: middle;\n",
       "    }\n",
       "\n",
       "    .dataframe tbody tr th {\n",
       "        vertical-align: top;\n",
       "    }\n",
       "\n",
       "    .dataframe thead th {\n",
       "        text-align: right;\n",
       "    }\n",
       "</style>\n",
       "<table border=\"1\" class=\"dataframe\">\n",
       "  <thead>\n",
       "    <tr style=\"text-align: right;\">\n",
       "      <th></th>\n",
       "      <th>구명</th>\n",
       "      <th>시설분류</th>\n",
       "      <th>주차장명</th>\n",
       "      <th>사용상태</th>\n",
       "      <th>충전기타입</th>\n",
       "      <th>수집시간</th>\n",
       "      <th>동</th>\n",
       "    </tr>\n",
       "  </thead>\n",
       "  <tbody>\n",
       "    <tr>\n",
       "      <th>0</th>\n",
       "      <td>강남구</td>\n",
       "      <td>관광시설</td>\n",
       "      <td>SETEC</td>\n",
       "      <td>사용가능</td>\n",
       "      <td>급속</td>\n",
       "      <td>2021-08-17 09:38:22.819315</td>\n",
       "      <td>대치동</td>\n",
       "    </tr>\n",
       "    <tr>\n",
       "      <th>1</th>\n",
       "      <td>강남구</td>\n",
       "      <td>관광시설</td>\n",
       "      <td>SETEC</td>\n",
       "      <td>사용가능</td>\n",
       "      <td>급속</td>\n",
       "      <td>2021-08-17 10:35:15.901991</td>\n",
       "      <td>대치동</td>\n",
       "    </tr>\n",
       "    <tr>\n",
       "      <th>2</th>\n",
       "      <td>강남구</td>\n",
       "      <td>관광시설</td>\n",
       "      <td>SETEC</td>\n",
       "      <td>사용가능</td>\n",
       "      <td>급속</td>\n",
       "      <td>2021-08-17 11:35:12.798199</td>\n",
       "      <td>대치동</td>\n",
       "    </tr>\n",
       "    <tr>\n",
       "      <th>3</th>\n",
       "      <td>강남구</td>\n",
       "      <td>관광시설</td>\n",
       "      <td>SETEC</td>\n",
       "      <td>사용가능</td>\n",
       "      <td>급속</td>\n",
       "      <td>2021-08-17 12:35:12.415314</td>\n",
       "      <td>대치동</td>\n",
       "    </tr>\n",
       "    <tr>\n",
       "      <th>4</th>\n",
       "      <td>강남구</td>\n",
       "      <td>관광시설</td>\n",
       "      <td>SETEC</td>\n",
       "      <td>사용가능</td>\n",
       "      <td>급속</td>\n",
       "      <td>2021-08-17 14:24:25.176385</td>\n",
       "      <td>대치동</td>\n",
       "    </tr>\n",
       "  </tbody>\n",
       "</table>\n",
       "</div>"
      ],
      "text/plain": [
       "    구명  시설분류   주차장명  사용상태 충전기타입                        수집시간    동\n",
       "0  강남구  관광시설  SETEC  사용가능    급속  2021-08-17 09:38:22.819315  대치동\n",
       "1  강남구  관광시설  SETEC  사용가능    급속  2021-08-17 10:35:15.901991  대치동\n",
       "2  강남구  관광시설  SETEC  사용가능    급속  2021-08-17 11:35:12.798199  대치동\n",
       "3  강남구  관광시설  SETEC  사용가능    급속  2021-08-17 12:35:12.415314  대치동\n",
       "4  강남구  관광시설  SETEC  사용가능    급속  2021-08-17 14:24:25.176385  대치동"
      ]
     },
     "execution_count": 19,
     "metadata": {},
     "output_type": "execute_result"
    }
   ],
   "source": [
    "result=result.sort_values(by=['구명','주차장명','수집시간'],ascending=[True,True,True])\n",
    "result=result.reset_index(drop=True)\n",
    "result.head()"
   ]
  },
  {
   "cell_type": "code",
   "execution_count": 20,
   "id": "832ae1bb",
   "metadata": {},
   "outputs": [],
   "source": [
    "result.to_csv('210817 환경부 크롤링.csv',index=False)"
   ]
  },
  {
   "cell_type": "code",
   "execution_count": null,
   "id": "8dd9c742",
   "metadata": {},
   "outputs": [],
   "source": []
  }
 ],
 "metadata": {
  "kernelspec": {
   "display_name": "Python 3",
   "language": "python",
   "name": "python3"
  },
  "language_info": {
   "codemirror_mode": {
    "name": "ipython",
    "version": 3
   },
   "file_extension": ".py",
   "mimetype": "text/x-python",
   "name": "python",
   "nbconvert_exporter": "python",
   "pygments_lexer": "ipython3",
   "version": "3.7.7"
  }
 },
 "nbformat": 4,
 "nbformat_minor": 5
}
