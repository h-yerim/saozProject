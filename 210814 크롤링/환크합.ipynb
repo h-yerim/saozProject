{
 "cells": [
  {
   "cell_type": "code",
   "execution_count": 2,
   "id": "1619492e",
   "metadata": {},
   "outputs": [],
   "source": [
    "import pandas as pd\n",
    "a= pd.read_csv('환경부 크롤링1628899755')\n",
    "b= pd.read_csv('환경부 크롤링1628906821')\n",
    "c= pd.read_csv('환경부 크롤링1628912221')\n",
    "d= pd.read_csv('환경부 크롤링1628915827')\n",
    "e= pd.read_csv('환경부 크롤링1628917612')\n",
    "f= pd.read_csv('환경부 크롤링1628919525')\n",
    "g= pd.read_csv('환경부 크롤링1628932362')\n",
    "h= pd.read_csv('환경부 크롤링1628935969')\n",
    "i= pd.read_csv('환경부 크롤링1628939579')\n",
    "j= pd.read_csv('환경부 크롤링1628943158')\n",
    "k= pd.read_csv('환경부 크롤링1628946763')\n",
    "l= pd.read_csv('환경부 크롤링1628950977')\n",
    "m= pd.read_csv('환경부 크롤링1628921612')\n",
    "n= pd.read_csv('환경부 크롤링1628925175')\n"
   ]
  },
  {
   "cell_type": "code",
   "execution_count": 3,
   "id": "888c254b",
   "metadata": {},
   "outputs": [
    {
     "data": {
      "text/html": [
       "<div>\n",
       "<style scoped>\n",
       "    .dataframe tbody tr th:only-of-type {\n",
       "        vertical-align: middle;\n",
       "    }\n",
       "\n",
       "    .dataframe tbody tr th {\n",
       "        vertical-align: top;\n",
       "    }\n",
       "\n",
       "    .dataframe thead th {\n",
       "        text-align: right;\n",
       "    }\n",
       "</style>\n",
       "<table border=\"1\" class=\"dataframe\">\n",
       "  <thead>\n",
       "    <tr style=\"text-align: right;\">\n",
       "      <th></th>\n",
       "      <th>구명</th>\n",
       "      <th>시설분류</th>\n",
       "      <th>주차장명</th>\n",
       "      <th>사용상태</th>\n",
       "      <th>충전기타입</th>\n",
       "      <th>수집시간</th>\n",
       "    </tr>\n",
       "  </thead>\n",
       "  <tbody>\n",
       "    <tr>\n",
       "      <th>0</th>\n",
       "      <td>강남구</td>\n",
       "      <td>관광시설</td>\n",
       "      <td>SETEC</td>\n",
       "      <td>사용가능</td>\n",
       "      <td>급속</td>\n",
       "      <td>2021-08-14 08:59:01.727268</td>\n",
       "    </tr>\n",
       "    <tr>\n",
       "      <th>1</th>\n",
       "      <td>강남구</td>\n",
       "      <td>관광시설</td>\n",
       "      <td>SETEC</td>\n",
       "      <td>사용가능</td>\n",
       "      <td>급속</td>\n",
       "      <td>2021-08-14 10:57:29.485428</td>\n",
       "    </tr>\n",
       "    <tr>\n",
       "      <th>2</th>\n",
       "      <td>강남구</td>\n",
       "      <td>관광시설</td>\n",
       "      <td>SETEC</td>\n",
       "      <td>사용가능</td>\n",
       "      <td>급속</td>\n",
       "      <td>2021-08-14 12:27:26.207987</td>\n",
       "    </tr>\n",
       "    <tr>\n",
       "      <th>3</th>\n",
       "      <td>강남구</td>\n",
       "      <td>관광시설</td>\n",
       "      <td>SETEC</td>\n",
       "      <td>사용가능</td>\n",
       "      <td>급속</td>\n",
       "      <td>2021-08-14 13:27:29.595148</td>\n",
       "    </tr>\n",
       "    <tr>\n",
       "      <th>4</th>\n",
       "      <td>강남구</td>\n",
       "      <td>관광시설</td>\n",
       "      <td>SETEC</td>\n",
       "      <td>사용가능</td>\n",
       "      <td>급속</td>\n",
       "      <td>2021-08-14 13:57:26.586682</td>\n",
       "    </tr>\n",
       "  </tbody>\n",
       "</table>\n",
       "</div>"
      ],
      "text/plain": [
       "    구명  시설분류   주차장명  사용상태 충전기타입                        수집시간\n",
       "0  강남구  관광시설  SETEC  사용가능    급속  2021-08-14 08:59:01.727268\n",
       "1  강남구  관광시설  SETEC  사용가능    급속  2021-08-14 10:57:29.485428\n",
       "2  강남구  관광시설  SETEC  사용가능    급속  2021-08-14 12:27:26.207987\n",
       "3  강남구  관광시설  SETEC  사용가능    급속  2021-08-14 13:27:29.595148\n",
       "4  강남구  관광시설  SETEC  사용가능    급속  2021-08-14 13:57:26.586682"
      ]
     },
     "execution_count": 3,
     "metadata": {},
     "output_type": "execute_result"
    }
   ],
   "source": [
    "result=pd.concat([a,b,c,d,e,f,g,h,i,j,k,l,m,n])\n",
    "result=result[['구명','시설분류','주차장명','사용상태','충전기타입','수집시간']]\n",
    "result=result.sort_values(by=['구명','주차장명','수집시간'],ascending=[True,True,True])\n",
    "result=result.reset_index(drop=True)\n",
    "result.head()"
   ]
  },
  {
   "cell_type": "code",
   "execution_count": 5,
   "id": "62f6a02e",
   "metadata": {},
   "outputs": [],
   "source": [
    "result.to_csv('210814 환경부 크롤링.csv',index=False)"
   ]
  },
  {
   "cell_type": "code",
   "execution_count": null,
   "id": "668b6d73",
   "metadata": {},
   "outputs": [],
   "source": []
  }
 ],
 "metadata": {
  "kernelspec": {
   "display_name": "Python 3",
   "language": "python",
   "name": "python3"
  },
  "language_info": {
   "codemirror_mode": {
    "name": "ipython",
    "version": 3
   },
   "file_extension": ".py",
   "mimetype": "text/x-python",
   "name": "python",
   "nbconvert_exporter": "python",
   "pygments_lexer": "ipython3",
   "version": "3.7.7"
  }
 },
 "nbformat": 4,
 "nbformat_minor": 5
}
