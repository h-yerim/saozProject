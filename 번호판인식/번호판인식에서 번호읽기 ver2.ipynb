{
 "cells": [
  {
   "cell_type": "code",
   "execution_count": 1,
   "id": "9c9d0378",
   "metadata": {},
   "outputs": [],
   "source": [
    "from PIL import Image\n",
    "import numpy as np\n",
    "import cv2\n",
    "import matplotlib.pyplot as plt\n",
    "import pytesseract\n",
    "\n",
    "pytesseract.pytesseract.tesseract_cmd=R'C:/Program Files/Tesseract-OCR/tesseract'"
   ]
  },
  {
   "cell_type": "markdown",
   "id": "7123740d",
   "metadata": {},
   "source": [
    "## 다른소스코드..잘리는건잘잘리는데 왜인지 번호가나오지않는다"
   ]
  },
  {
   "cell_type": "code",
   "execution_count": 3,
   "id": "6dda62b0",
   "metadata": {},
   "outputs": [
    {
     "name": "stdout",
     "output_type": "stream",
     "text": [
      "width=940, height=626, depth=3\n",
      "Number is:  \n",
      "\f",
      "\n"
     ]
    }
   ],
   "source": [
    "import imutils\n",
    "import cv2\n",
    "import numpy as np \n",
    "import pytesseract \n",
    "from PIL import Image \n",
    "pytesseract.pytesseract.tesseract_cmd=R'C:/Program Files/Tesseract-OCR/tesseract'\n",
    "\n",
    "image = cv2.imread(\"1.jpg\")\n",
    "(h, w, d) = image.shape\n",
    "print(\"width={}, height={}, depth={}\".format(w, h, d))\n",
    "cv2.imshow(\"Image\", image)\n",
    "img = imutils.resize(image, width=500 ) \n",
    "gray = cv2.cvtColor(img, cv2.COLOR_BGR2GRAY) #convert to grey scale \n",
    "gray = cv2.bilateralFilter(gray, 11, 17, 17) #Blur to reduce noise \n",
    "edged = cv2.Canny(gray, 30, 200) \n",
    "# cv2.imshow(\"Canny\",edged)\n",
    "\n",
    "cnts,new = cv2.findContours(edged.copy(), cv2.RETR_LIST, cv2.CHAIN_APPROX_SIMPLE) \n",
    "img1=img.copy() \n",
    "cv2.drawContours(img1,cnts,-1,(0,255,0),3) \n",
    "# cv2.imshow(\"img1\",img1) \n",
    "\n",
    "cnts = sorted(cnts, key = cv2.contourArea, reverse = True)[:30] \n",
    "screenCnt = None #will store the number plate contour \n",
    "img2 = img.copy() \n",
    "cv2.drawContours(img2,cnts,-1,(0,255,0),3)  \n",
    "# cv2.imshow(\"img2\",img2) #top 30 contours \n",
    "count=0 \n",
    "\n",
    "idx=7\n",
    "# loop over contours\n",
    "for c in cnts:\n",
    "  # approximate the contour\n",
    "        peri = cv2.arcLength(c, True)\n",
    "        approx = cv2.approxPolyDP(c, 0.018 * peri, True)\n",
    "        if len(approx) == 4: #chooses contours with 4 corners\n",
    "                screenCnt = approx\n",
    "                x,y,w,h = cv2.boundingRect(c) #finds co-ordinates of the plate\n",
    "                new_img=img[y:y+h,x:x+w]\n",
    "                cv2.imwrite('./'+str(idx)+'.png',new_img) #stores the new image\n",
    "                idx+=1\n",
    "                break\n",
    "\n",
    "#draws the selected contour on original image        \n",
    "cv2.drawContours(img, [screenCnt], -1, (0, 255, 0), 3)\n",
    "# cv2.imshow(\"Final image with plate detected\",img)\n",
    "Cropped_loc='./7.png' #the filename of cropped image\n",
    "# cv2.imshow(\"cropped\",cv2.imread(Cropped_loc)) \n",
    "text=pytesseract.image_to_string(Cropped_loc,lang='kor', config='') #converts image characters to string\n",
    "print(\"Number is:\" ,text)\n",
    "cv2.waitKey(0)\n",
    "cv2.destroyAllWindows() "
   ]
  },
  {
   "cell_type": "code",
   "execution_count": null,
   "id": "3f6b2108",
   "metadata": {},
   "outputs": [],
   "source": []
  },
  {
   "cell_type": "code",
   "execution_count": null,
   "id": "423ddf24",
   "metadata": {},
   "outputs": [],
   "source": []
  },
  {
   "cell_type": "code",
   "execution_count": null,
   "id": "15218fa0",
   "metadata": {},
   "outputs": [],
   "source": []
  },
  {
   "cell_type": "code",
   "execution_count": null,
   "id": "0d472c88",
   "metadata": {},
   "outputs": [],
   "source": []
  },
  {
   "cell_type": "code",
   "execution_count": null,
   "id": "417f6514",
   "metadata": {},
   "outputs": [],
   "source": []
  }
 ],
 "metadata": {
  "kernelspec": {
   "display_name": "Python 3",
   "language": "python",
   "name": "python3"
  },
  "language_info": {
   "codemirror_mode": {
    "name": "ipython",
    "version": 3
   },
   "file_extension": ".py",
   "mimetype": "text/x-python",
   "name": "python",
   "nbconvert_exporter": "python",
   "pygments_lexer": "ipython3",
   "version": "3.7.7"
  }
 },
 "nbformat": 4,
 "nbformat_minor": 5
}
