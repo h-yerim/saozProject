{
 "cells": [
  {
   "cell_type": "code",
   "execution_count": 1,
   "id": "99cb99d1",
   "metadata": {},
   "outputs": [],
   "source": [
    "import pandas as pd\n",
    "a= pd.read_csv('타기관 크롤링1629766635')\n",
    "b= pd.read_csv('타기관 크롤링1629770916')\n",
    "c= pd.read_csv('타기관 크롤링1629774432')\n",
    "d= pd.read_csv('타기관 크롤링1629778353')\n",
    "e= pd.read_csv('타기관 크롤링1629783088')\n",
    "f= pd.read_csv('타기관 크롤링1629789726')\n",
    "g=pd.read_csv('타기관 크롤링1629792528')\n",
    "h=pd.read_csv('타기관 크롤링1629795857')\n",
    "i=pd.read_csv('타기관 크롤링1629798406')\n",
    "j=pd.read_csv('타기관 크롤링1629801812')\n",
    "k=pd.read_csv('타기관 크롤링1629805612')\n",
    "l=pd.read_csv('타기관 크롤링1629807667')\n",
    "m=pd.read_csv('타기관 크롤링1629812086')\n",
    "n=pd.read_csv('타기관 크롤링1629816706')"
   ]
  },
  {
   "cell_type": "code",
   "execution_count": 2,
   "id": "65044ede",
   "metadata": {},
   "outputs": [
    {
     "data": {
      "text/html": [
       "<div>\n",
       "<style scoped>\n",
       "    .dataframe tbody tr th:only-of-type {\n",
       "        vertical-align: middle;\n",
       "    }\n",
       "\n",
       "    .dataframe tbody tr th {\n",
       "        vertical-align: top;\n",
       "    }\n",
       "\n",
       "    .dataframe thead th {\n",
       "        text-align: right;\n",
       "    }\n",
       "</style>\n",
       "<table border=\"1\" class=\"dataframe\">\n",
       "  <thead>\n",
       "    <tr style=\"text-align: right;\">\n",
       "      <th></th>\n",
       "      <th>구명</th>\n",
       "      <th>시설분류</th>\n",
       "      <th>주차장명</th>\n",
       "      <th>사용상태</th>\n",
       "      <th>충전기타입</th>\n",
       "      <th>수집시간</th>\n",
       "    </tr>\n",
       "  </thead>\n",
       "  <tbody>\n",
       "    <tr>\n",
       "      <th>0</th>\n",
       "      <td>강남구</td>\n",
       "      <td>기타시설</td>\n",
       "      <td>(사)국가안보전략연구원</td>\n",
       "      <td>사용가능</td>\n",
       "      <td>완속</td>\n",
       "      <td>2021-08-24 09:24:38.288799</td>\n",
       "    </tr>\n",
       "    <tr>\n",
       "      <th>1</th>\n",
       "      <td>강남구</td>\n",
       "      <td>기타시설</td>\n",
       "      <td>(사)국가안보전략연구원</td>\n",
       "      <td>사용가능</td>\n",
       "      <td>완속</td>\n",
       "      <td>2021-08-24 10:16:26.593286</td>\n",
       "    </tr>\n",
       "    <tr>\n",
       "      <th>2</th>\n",
       "      <td>강남구</td>\n",
       "      <td>기타시설</td>\n",
       "      <td>(사)국가안보전략연구원</td>\n",
       "      <td>사용가능</td>\n",
       "      <td>완속</td>\n",
       "      <td>2021-08-24 11:13:16.927484</td>\n",
       "    </tr>\n",
       "    <tr>\n",
       "      <th>3</th>\n",
       "      <td>강남구</td>\n",
       "      <td>기타시설</td>\n",
       "      <td>(사)국가안보전략연구원</td>\n",
       "      <td>사용가능</td>\n",
       "      <td>완속</td>\n",
       "      <td>2021-08-24 12:11:27.012088</td>\n",
       "    </tr>\n",
       "    <tr>\n",
       "      <th>4</th>\n",
       "      <td>강남구</td>\n",
       "      <td>기타시설</td>\n",
       "      <td>(사)국가안보전략연구원</td>\n",
       "      <td>사용가능</td>\n",
       "      <td>완속</td>\n",
       "      <td>2021-08-24 13:17:16.955555</td>\n",
       "    </tr>\n",
       "  </tbody>\n",
       "</table>\n",
       "</div>"
      ],
      "text/plain": [
       "    구명  시설분류          주차장명  사용상태 충전기타입                        수집시간\n",
       "0  강남구  기타시설  (사)국가안보전략연구원  사용가능    완속  2021-08-24 09:24:38.288799\n",
       "1  강남구  기타시설  (사)국가안보전략연구원  사용가능    완속  2021-08-24 10:16:26.593286\n",
       "2  강남구  기타시설  (사)국가안보전략연구원  사용가능    완속  2021-08-24 11:13:16.927484\n",
       "3  강남구  기타시설  (사)국가안보전략연구원  사용가능    완속  2021-08-24 12:11:27.012088\n",
       "4  강남구  기타시설  (사)국가안보전략연구원  사용가능    완속  2021-08-24 13:17:16.955555"
      ]
     },
     "execution_count": 2,
     "metadata": {},
     "output_type": "execute_result"
    }
   ],
   "source": [
    "result=pd.concat([a,b,c,d,e,f,g,h,i,j,k,l,m,n])\n",
    "result=result[['구명','시설분류','주차장명','사용상태','충전기타입','수집시간']]\n",
    "result=result.sort_values(by=['구명','주차장명','수집시간'],ascending=[True,True,True])\n",
    "result=result.reset_index(drop=True)\n",
    "result.head()"
   ]
  },
  {
   "cell_type": "code",
   "execution_count": 3,
   "id": "bad9fcbd",
   "metadata": {},
   "outputs": [
    {
     "data": {
      "text/html": [
       "<div>\n",
       "<style scoped>\n",
       "    .dataframe tbody tr th:only-of-type {\n",
       "        vertical-align: middle;\n",
       "    }\n",
       "\n",
       "    .dataframe tbody tr th {\n",
       "        vertical-align: top;\n",
       "    }\n",
       "\n",
       "    .dataframe thead th {\n",
       "        text-align: right;\n",
       "    }\n",
       "</style>\n",
       "<table border=\"1\" class=\"dataframe\">\n",
       "  <thead>\n",
       "    <tr style=\"text-align: right;\">\n",
       "      <th></th>\n",
       "      <th>구명</th>\n",
       "      <th>시설분류</th>\n",
       "      <th>주차장명</th>\n",
       "      <th>사용상태</th>\n",
       "      <th>충전기타입</th>\n",
       "      <th>수집시간</th>\n",
       "    </tr>\n",
       "  </thead>\n",
       "  <tbody>\n",
       "    <tr>\n",
       "      <th>0</th>\n",
       "      <td>강남구</td>\n",
       "      <td>기타시설</td>\n",
       "      <td>(사)국가안보전략연구원</td>\n",
       "      <td>사용가능</td>\n",
       "      <td>완속</td>\n",
       "      <td>2021-08-24 09:24:38.288799</td>\n",
       "    </tr>\n",
       "    <tr>\n",
       "      <th>1</th>\n",
       "      <td>강남구</td>\n",
       "      <td>기타시설</td>\n",
       "      <td>(사)국가안보전략연구원</td>\n",
       "      <td>사용가능</td>\n",
       "      <td>완속</td>\n",
       "      <td>2021-08-24 10:16:26.593286</td>\n",
       "    </tr>\n",
       "    <tr>\n",
       "      <th>2</th>\n",
       "      <td>강남구</td>\n",
       "      <td>기타시설</td>\n",
       "      <td>(사)국가안보전략연구원</td>\n",
       "      <td>사용가능</td>\n",
       "      <td>완속</td>\n",
       "      <td>2021-08-24 11:13:16.927484</td>\n",
       "    </tr>\n",
       "    <tr>\n",
       "      <th>3</th>\n",
       "      <td>강남구</td>\n",
       "      <td>기타시설</td>\n",
       "      <td>(사)국가안보전략연구원</td>\n",
       "      <td>사용가능</td>\n",
       "      <td>완속</td>\n",
       "      <td>2021-08-24 12:11:27.012088</td>\n",
       "    </tr>\n",
       "    <tr>\n",
       "      <th>4</th>\n",
       "      <td>강남구</td>\n",
       "      <td>기타시설</td>\n",
       "      <td>(사)국가안보전략연구원</td>\n",
       "      <td>사용가능</td>\n",
       "      <td>완속</td>\n",
       "      <td>2021-08-24 13:17:16.955555</td>\n",
       "    </tr>\n",
       "    <tr>\n",
       "      <th>5</th>\n",
       "      <td>강남구</td>\n",
       "      <td>기타시설</td>\n",
       "      <td>(사)국가안보전략연구원</td>\n",
       "      <td>사용가능</td>\n",
       "      <td>완속</td>\n",
       "      <td>2021-08-24 15:34:19.500704</td>\n",
       "    </tr>\n",
       "    <tr>\n",
       "      <th>6</th>\n",
       "      <td>강남구</td>\n",
       "      <td>기타시설</td>\n",
       "      <td>(사)국가안보전략연구원</td>\n",
       "      <td>사용가능</td>\n",
       "      <td>완속</td>\n",
       "      <td>2021-08-24 16:24:05.212585</td>\n",
       "    </tr>\n",
       "    <tr>\n",
       "      <th>7</th>\n",
       "      <td>강남구</td>\n",
       "      <td>기타시설</td>\n",
       "      <td>(사)국가안보전략연구원</td>\n",
       "      <td>사용가능</td>\n",
       "      <td>완속</td>\n",
       "      <td>2021-08-24 17:12:54.236608</td>\n",
       "    </tr>\n",
       "    <tr>\n",
       "      <th>8</th>\n",
       "      <td>강남구</td>\n",
       "      <td>기타시설</td>\n",
       "      <td>(사)국가안보전략연구원</td>\n",
       "      <td>사용가능</td>\n",
       "      <td>완속</td>\n",
       "      <td>2021-08-24 18:06:23.011849</td>\n",
       "    </tr>\n",
       "    <tr>\n",
       "      <th>9</th>\n",
       "      <td>강남구</td>\n",
       "      <td>기타시설</td>\n",
       "      <td>(사)국가안보전략연구원</td>\n",
       "      <td>사용가능</td>\n",
       "      <td>완속</td>\n",
       "      <td>2021-08-24 18:48:34.224423</td>\n",
       "    </tr>\n",
       "    <tr>\n",
       "      <th>10</th>\n",
       "      <td>강남구</td>\n",
       "      <td>기타시설</td>\n",
       "      <td>(사)국가안보전략연구원</td>\n",
       "      <td>사용가능</td>\n",
       "      <td>완속</td>\n",
       "      <td>2021-08-24 19:47:11.051291</td>\n",
       "    </tr>\n",
       "    <tr>\n",
       "      <th>11</th>\n",
       "      <td>강남구</td>\n",
       "      <td>기타시설</td>\n",
       "      <td>(사)국가안보전략연구원</td>\n",
       "      <td>사용가능</td>\n",
       "      <td>완속</td>\n",
       "      <td>2021-08-24 20:48:49.322738</td>\n",
       "    </tr>\n",
       "    <tr>\n",
       "      <th>12</th>\n",
       "      <td>강남구</td>\n",
       "      <td>기타시설</td>\n",
       "      <td>(사)국가안보전략연구원</td>\n",
       "      <td>사용가능</td>\n",
       "      <td>완속</td>\n",
       "      <td>2021-08-24 21:25:22.232449</td>\n",
       "    </tr>\n",
       "    <tr>\n",
       "      <th>13</th>\n",
       "      <td>강남구</td>\n",
       "      <td>기타시설</td>\n",
       "      <td>(사)국가안보전략연구원</td>\n",
       "      <td>사용가능</td>\n",
       "      <td>완속</td>\n",
       "      <td>2021-08-24 22:45:51.492322</td>\n",
       "    </tr>\n",
       "  </tbody>\n",
       "</table>\n",
       "</div>"
      ],
      "text/plain": [
       "     구명  시설분류          주차장명  사용상태 충전기타입                        수집시간\n",
       "0   강남구  기타시설  (사)국가안보전략연구원  사용가능    완속  2021-08-24 09:24:38.288799\n",
       "1   강남구  기타시설  (사)국가안보전략연구원  사용가능    완속  2021-08-24 10:16:26.593286\n",
       "2   강남구  기타시설  (사)국가안보전략연구원  사용가능    완속  2021-08-24 11:13:16.927484\n",
       "3   강남구  기타시설  (사)국가안보전략연구원  사용가능    완속  2021-08-24 12:11:27.012088\n",
       "4   강남구  기타시설  (사)국가안보전략연구원  사용가능    완속  2021-08-24 13:17:16.955555\n",
       "5   강남구  기타시설  (사)국가안보전략연구원  사용가능    완속  2021-08-24 15:34:19.500704\n",
       "6   강남구  기타시설  (사)국가안보전략연구원  사용가능    완속  2021-08-24 16:24:05.212585\n",
       "7   강남구  기타시설  (사)국가안보전략연구원  사용가능    완속  2021-08-24 17:12:54.236608\n",
       "8   강남구  기타시설  (사)국가안보전략연구원  사용가능    완속  2021-08-24 18:06:23.011849\n",
       "9   강남구  기타시설  (사)국가안보전략연구원  사용가능    완속  2021-08-24 18:48:34.224423\n",
       "10  강남구  기타시설  (사)국가안보전략연구원  사용가능    완속  2021-08-24 19:47:11.051291\n",
       "11  강남구  기타시설  (사)국가안보전략연구원  사용가능    완속  2021-08-24 20:48:49.322738\n",
       "12  강남구  기타시설  (사)국가안보전략연구원  사용가능    완속  2021-08-24 21:25:22.232449\n",
       "13  강남구  기타시설  (사)국가안보전략연구원  사용가능    완속  2021-08-24 22:45:51.492322"
      ]
     },
     "execution_count": 3,
     "metadata": {},
     "output_type": "execute_result"
    }
   ],
   "source": [
    "result[result['주차장명']=='(사)국가안보전략연구원']"
   ]
  },
  {
   "cell_type": "code",
   "execution_count": 4,
   "id": "fd729285",
   "metadata": {},
   "outputs": [],
   "source": [
    "result.to_csv('210824 타기관 크롤링.csv',index=False)"
   ]
  },
  {
   "cell_type": "code",
   "execution_count": 5,
   "id": "353d7a4b",
   "metadata": {},
   "outputs": [
    {
     "name": "stdout",
     "output_type": "stream",
     "text": [
      "<class 'pandas.core.frame.DataFrame'>\n",
      "RangeIndex: 2288 entries, 0 to 2287\n",
      "Data columns (total 7 columns):\n",
      " #   Column      Non-Null Count  Dtype \n",
      "---  ------      --------------  ----- \n",
      " 0   Unnamed: 0  2288 non-null   int64 \n",
      " 1   구명          2288 non-null   object\n",
      " 2   시설분류        2288 non-null   object\n",
      " 3   주차장명        2288 non-null   object\n",
      " 4   사용상태        2288 non-null   object\n",
      " 5   충전기타입       2288 non-null   object\n",
      " 6   수집시간        2288 non-null   object\n",
      "dtypes: int64(1), object(6)\n",
      "memory usage: 125.2+ KB\n"
     ]
    }
   ],
   "source": [
    "a.info()"
   ]
  },
  {
   "cell_type": "code",
   "execution_count": 6,
   "id": "b71f9808",
   "metadata": {},
   "outputs": [
    {
     "name": "stdout",
     "output_type": "stream",
     "text": [
      "<class 'pandas.core.frame.DataFrame'>\n",
      "RangeIndex: 2289 entries, 0 to 2288\n",
      "Data columns (total 7 columns):\n",
      " #   Column      Non-Null Count  Dtype \n",
      "---  ------      --------------  ----- \n",
      " 0   Unnamed: 0  2289 non-null   int64 \n",
      " 1   구명          2289 non-null   object\n",
      " 2   시설분류        2289 non-null   object\n",
      " 3   주차장명        2289 non-null   object\n",
      " 4   사용상태        2289 non-null   object\n",
      " 5   충전기타입       2289 non-null   object\n",
      " 6   수집시간        2289 non-null   object\n",
      "dtypes: int64(1), object(6)\n",
      "memory usage: 125.3+ KB\n"
     ]
    }
   ],
   "source": [
    "b.info()"
   ]
  },
  {
   "cell_type": "code",
   "execution_count": 7,
   "id": "c47f1051",
   "metadata": {},
   "outputs": [
    {
     "name": "stdout",
     "output_type": "stream",
     "text": [
      "<class 'pandas.core.frame.DataFrame'>\n",
      "RangeIndex: 2291 entries, 0 to 2290\n",
      "Data columns (total 7 columns):\n",
      " #   Column      Non-Null Count  Dtype \n",
      "---  ------      --------------  ----- \n",
      " 0   Unnamed: 0  2291 non-null   int64 \n",
      " 1   구명          2291 non-null   object\n",
      " 2   시설분류        2291 non-null   object\n",
      " 3   주차장명        2291 non-null   object\n",
      " 4   사용상태        2291 non-null   object\n",
      " 5   충전기타입       2291 non-null   object\n",
      " 6   수집시간        2291 non-null   object\n",
      "dtypes: int64(1), object(6)\n",
      "memory usage: 125.4+ KB\n"
     ]
    }
   ],
   "source": [
    "c.info()"
   ]
  },
  {
   "cell_type": "code",
   "execution_count": 8,
   "id": "e725c22e",
   "metadata": {},
   "outputs": [
    {
     "name": "stdout",
     "output_type": "stream",
     "text": [
      "<class 'pandas.core.frame.DataFrame'>\n",
      "RangeIndex: 2293 entries, 0 to 2292\n",
      "Data columns (total 7 columns):\n",
      " #   Column      Non-Null Count  Dtype \n",
      "---  ------      --------------  ----- \n",
      " 0   Unnamed: 0  2293 non-null   int64 \n",
      " 1   구명          2293 non-null   object\n",
      " 2   시설분류        2293 non-null   object\n",
      " 3   주차장명        2293 non-null   object\n",
      " 4   사용상태        2293 non-null   object\n",
      " 5   충전기타입       2293 non-null   object\n",
      " 6   수집시간        2293 non-null   object\n",
      "dtypes: int64(1), object(6)\n",
      "memory usage: 125.5+ KB\n"
     ]
    }
   ],
   "source": [
    "d.info()"
   ]
  },
  {
   "cell_type": "code",
   "execution_count": 9,
   "id": "121aec4e",
   "metadata": {},
   "outputs": [
    {
     "name": "stdout",
     "output_type": "stream",
     "text": [
      "<class 'pandas.core.frame.DataFrame'>\n",
      "RangeIndex: 2293 entries, 0 to 2292\n",
      "Data columns (total 7 columns):\n",
      " #   Column      Non-Null Count  Dtype \n",
      "---  ------      --------------  ----- \n",
      " 0   Unnamed: 0  2293 non-null   int64 \n",
      " 1   구명          2293 non-null   object\n",
      " 2   시설분류        2293 non-null   object\n",
      " 3   주차장명        2293 non-null   object\n",
      " 4   사용상태        2293 non-null   object\n",
      " 5   충전기타입       2293 non-null   object\n",
      " 6   수집시간        2293 non-null   object\n",
      "dtypes: int64(1), object(6)\n",
      "memory usage: 125.5+ KB\n"
     ]
    }
   ],
   "source": [
    "e.info()"
   ]
  },
  {
   "cell_type": "code",
   "execution_count": 10,
   "id": "6ee75ed4",
   "metadata": {},
   "outputs": [
    {
     "name": "stdout",
     "output_type": "stream",
     "text": [
      "<class 'pandas.core.frame.DataFrame'>\n",
      "RangeIndex: 2294 entries, 0 to 2293\n",
      "Data columns (total 7 columns):\n",
      " #   Column      Non-Null Count  Dtype \n",
      "---  ------      --------------  ----- \n",
      " 0   Unnamed: 0  2294 non-null   int64 \n",
      " 1   구명          2294 non-null   object\n",
      " 2   시설분류        2294 non-null   object\n",
      " 3   주차장명        2294 non-null   object\n",
      " 4   사용상태        2294 non-null   object\n",
      " 5   충전기타입       2294 non-null   object\n",
      " 6   수집시간        2294 non-null   object\n",
      "dtypes: int64(1), object(6)\n",
      "memory usage: 125.6+ KB\n"
     ]
    }
   ],
   "source": [
    "f.info()"
   ]
  },
  {
   "cell_type": "code",
   "execution_count": 11,
   "id": "a15c1aaf",
   "metadata": {},
   "outputs": [
    {
     "name": "stdout",
     "output_type": "stream",
     "text": [
      "<class 'pandas.core.frame.DataFrame'>\n",
      "RangeIndex: 2294 entries, 0 to 2293\n",
      "Data columns (total 7 columns):\n",
      " #   Column      Non-Null Count  Dtype \n",
      "---  ------      --------------  ----- \n",
      " 0   Unnamed: 0  2294 non-null   int64 \n",
      " 1   구명          2294 non-null   object\n",
      " 2   시설분류        2294 non-null   object\n",
      " 3   주차장명        2294 non-null   object\n",
      " 4   사용상태        2294 non-null   object\n",
      " 5   충전기타입       2294 non-null   object\n",
      " 6   수집시간        2294 non-null   object\n",
      "dtypes: int64(1), object(6)\n",
      "memory usage: 125.6+ KB\n"
     ]
    }
   ],
   "source": [
    "g.info()"
   ]
  },
  {
   "cell_type": "code",
   "execution_count": 12,
   "id": "b0d652fb",
   "metadata": {},
   "outputs": [
    {
     "name": "stdout",
     "output_type": "stream",
     "text": [
      "<class 'pandas.core.frame.DataFrame'>\n",
      "RangeIndex: 2293 entries, 0 to 2292\n",
      "Data columns (total 7 columns):\n",
      " #   Column      Non-Null Count  Dtype \n",
      "---  ------      --------------  ----- \n",
      " 0   Unnamed: 0  2293 non-null   int64 \n",
      " 1   구명          2293 non-null   object\n",
      " 2   시설분류        2293 non-null   object\n",
      " 3   주차장명        2293 non-null   object\n",
      " 4   사용상태        2293 non-null   object\n",
      " 5   충전기타입       2293 non-null   object\n",
      " 6   수집시간        2293 non-null   object\n",
      "dtypes: int64(1), object(6)\n",
      "memory usage: 125.5+ KB\n"
     ]
    }
   ],
   "source": [
    "h.info()"
   ]
  },
  {
   "cell_type": "code",
   "execution_count": 13,
   "id": "a1ca1ffe",
   "metadata": {},
   "outputs": [
    {
     "name": "stdout",
     "output_type": "stream",
     "text": [
      "<class 'pandas.core.frame.DataFrame'>\n",
      "RangeIndex: 2293 entries, 0 to 2292\n",
      "Data columns (total 7 columns):\n",
      " #   Column      Non-Null Count  Dtype \n",
      "---  ------      --------------  ----- \n",
      " 0   Unnamed: 0  2293 non-null   int64 \n",
      " 1   구명          2293 non-null   object\n",
      " 2   시설분류        2293 non-null   object\n",
      " 3   주차장명        2293 non-null   object\n",
      " 4   사용상태        2293 non-null   object\n",
      " 5   충전기타입       2293 non-null   object\n",
      " 6   수집시간        2293 non-null   object\n",
      "dtypes: int64(1), object(6)\n",
      "memory usage: 125.5+ KB\n"
     ]
    }
   ],
   "source": [
    "l.info()"
   ]
  },
  {
   "cell_type": "code",
   "execution_count": 14,
   "id": "f3114988",
   "metadata": {},
   "outputs": [
    {
     "name": "stdout",
     "output_type": "stream",
     "text": [
      "<class 'pandas.core.frame.DataFrame'>\n",
      "RangeIndex: 2293 entries, 0 to 2292\n",
      "Data columns (total 7 columns):\n",
      " #   Column      Non-Null Count  Dtype \n",
      "---  ------      --------------  ----- \n",
      " 0   Unnamed: 0  2293 non-null   int64 \n",
      " 1   구명          2293 non-null   object\n",
      " 2   시설분류        2293 non-null   object\n",
      " 3   주차장명        2293 non-null   object\n",
      " 4   사용상태        2293 non-null   object\n",
      " 5   충전기타입       2293 non-null   object\n",
      " 6   수집시간        2293 non-null   object\n",
      "dtypes: int64(1), object(6)\n",
      "memory usage: 125.5+ KB\n"
     ]
    }
   ],
   "source": [
    "m.info()"
   ]
  },
  {
   "cell_type": "code",
   "execution_count": 15,
   "id": "e8ca8a3e",
   "metadata": {},
   "outputs": [
    {
     "name": "stdout",
     "output_type": "stream",
     "text": [
      "<class 'pandas.core.frame.DataFrame'>\n",
      "RangeIndex: 2294 entries, 0 to 2293\n",
      "Data columns (total 7 columns):\n",
      " #   Column      Non-Null Count  Dtype \n",
      "---  ------      --------------  ----- \n",
      " 0   Unnamed: 0  2294 non-null   int64 \n",
      " 1   구명          2294 non-null   object\n",
      " 2   시설분류        2294 non-null   object\n",
      " 3   주차장명        2294 non-null   object\n",
      " 4   사용상태        2294 non-null   object\n",
      " 5   충전기타입       2294 non-null   object\n",
      " 6   수집시간        2294 non-null   object\n",
      "dtypes: int64(1), object(6)\n",
      "memory usage: 125.6+ KB\n"
     ]
    }
   ],
   "source": [
    "n.info()"
   ]
  },
  {
   "cell_type": "code",
   "execution_count": null,
   "id": "a47b168e",
   "metadata": {},
   "outputs": [],
   "source": []
  }
 ],
 "metadata": {
  "kernelspec": {
   "display_name": "Python 3",
   "language": "python",
   "name": "python3"
  },
  "language_info": {
   "codemirror_mode": {
    "name": "ipython",
    "version": 3
   },
   "file_extension": ".py",
   "mimetype": "text/x-python",
   "name": "python",
   "nbconvert_exporter": "python",
   "pygments_lexer": "ipython3",
   "version": "3.7.7"
  }
 },
 "nbformat": 4,
 "nbformat_minor": 5
}
